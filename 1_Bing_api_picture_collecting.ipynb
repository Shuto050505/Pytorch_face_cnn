{
 "cells": [
  {
   "cell_type": "code",
   "execution_count": 1,
   "metadata": {
    "ExecuteTime": {
     "end_time": "2017-09-03T05:26:36.476623Z",
     "start_time": "2017-09-03T05:26:36.473120Z"
    },
    "collapsed": true
   },
   "outputs": [],
   "source": [
    "#Bing API を使用して画像収集を行う"
   ]
  },
  {
   "cell_type": "code",
   "execution_count": 2,
   "metadata": {
    "ExecuteTime": {
     "end_time": "2017-09-03T05:26:37.042494Z",
     "start_time": "2017-09-03T05:26:36.886898Z"
    },
    "collapsed": true
   },
   "outputs": [],
   "source": [
    "import requests\n",
    "import os\n",
    "import io\n",
    "import imghdr\n",
    "import uuid"
   ]
  },
  {
   "cell_type": "code",
   "execution_count": 3,
   "metadata": {
    "ExecuteTime": {
     "end_time": "2017-09-03T05:28:36.724536Z",
     "start_time": "2017-09-03T05:28:36.720525Z"
    },
    "collapsed": true
   },
   "outputs": [],
   "source": [
    "#検索\n",
    "keyword = []\n",
    "#欲しい枚数(50の倍数)\n",
    "wantnum = 200"
   ]
  },
  {
   "cell_type": "code",
   "execution_count": 10,
   "metadata": {
    "ExecuteTime": {
     "end_time": "2017-09-03T05:31:46.272272Z",
     "start_time": "2017-09-03T05:31:46.264750Z"
    },
    "collapsed": true
   },
   "outputs": [],
   "source": [
    "# Bing Search APIの仕様で決まっている1リクエストあたりの画像取得最大枚数\n",
    "ONE_SEARCH_LIMIT = 50\n",
    "# Bing Search API URL\n",
    "ROOT_URL = 'https://api.cognitive.microsoft.com/bing/v5.0/images/search'\n",
    "# API\n",
    "API_KEY = 'API_KEY'\n",
    "#Country (画像収集を行う地域を指定するMarket Codes)\n",
    "MKT = 'ja-JP'\n",
    "# 画像のダウンロードのタイムアウト(秒)\n",
    "TIMEOUT = 5\n",
    "# ダウンロードした画像を格納するディレクトリ名\n",
    "SAVE_DIR = \"o_picts\"\n",
    "if not os.path.isdir(SAVE_DIR):\n",
    "    os.mkdir(SAVE_DIR)"
   ]
  },
  {
   "cell_type": "code",
   "execution_count": 11,
   "metadata": {
    "ExecuteTime": {
     "end_time": "2017-09-03T05:31:46.733993Z",
     "start_time": "2017-09-03T05:31:46.727470Z"
    },
    "collapsed": true
   },
   "outputs": [],
   "source": [
    "def bing_search(query,offset):\n",
    "    # headers\n",
    "    headers = {'Ocp-Apim-Subscription-Key': API_KEY}\n",
    "    #parameters: query offset country count\n",
    "    payload = {'q': query, 'offset': offset, 'mkt': MKT, 'count': ONE_SEARCH_LIMIT}\n",
    "    # make GET request\n",
    "    result = requests.get(ROOT_URL, params=payload, headers=headers)\n",
    "    # get JSON response\n",
    "    return result.json()"
   ]
  },
  {
   "cell_type": "code",
   "execution_count": null,
   "metadata": {
    "ExecuteTime": {
     "start_time": "2017-09-03T05:32:33.062Z"
    },
    "collapsed": true
   },
   "outputs": [],
   "source": [
    "step = 1   \n",
    "for key in keyword:\n",
    "    pnum = 0\n",
    "    for i in range(wantnum // ONE_SEARCH_LIMIT):\n",
    "        #リクエスト\n",
    "        response = bing_search(key, ONE_SEARCH_LIMIT * i)    \n",
    "    \n",
    "        for result in response.get('value', {}):\n",
    "            #画像検索時のURL\n",
    "            image_url = result['contentUrl']        \n",
    "            #画像ダウンロード\n",
    "            try:\n",
    "                response_image = requests.get(image_url, timeout=TIMEOUT)\n",
    "                image_binary = response_image.content\n",
    "            except:\n",
    "                continue\n",
    "\n",
    "            #画像形式フィルタ (jpg or png)\n",
    "            with io.BytesIO(image_binary) as fh:\n",
    "                image_type = imghdr.what(fh)\n",
    "\n",
    "                if image_type == 'jpeg':\n",
    "                    extension = '.jpg'\n",
    "                    pnum += 1\n",
    "                elif image_type == 'png':\n",
    "                    extension = '.png'\n",
    "                    pnum += 1\n",
    "                else:\n",
    "                    continue\n",
    "                #filename = str(uuid.uuid4()) + extension\n",
    "                filename = str(pnum) + extension\n",
    "\n",
    "            #画像保存\n",
    "            save_dir = SAVE_DIR +\"/\"+'ims_' + str(step)\n",
    "            if not os.path.isdir(save_dir):\n",
    "                os.mkdir(save_dir)\n",
    "            with open(os.path.join(save_dir, filename), 'wb') as f:\n",
    "                f.write(image_binary)\n",
    "    step += 1"
   ]
  },
  {
   "cell_type": "markdown",
   "metadata": {
    "ExecuteTime": {
     "end_time": "2017-04-14T08:42:46.630719Z",
     "start_time": "2017-04-14T17:42:46.617700+09:00"
    }
   },
   "source": [
    "#参考したページ\n",
    "#Cognitive Services APIs\n",
    "url1 = \"https://www.microsoft.com/cognitive-services/en-us/\"\n",
    "#Market Codes\n",
    "url2 = \"https://msdn.microsoft.com/en-us/library/dn783426.aspx\"\n",
    "#parameter\n",
    "url3 = \"http://so-zou.jp/web-app/tech/web-api/bing/search/web-search.htm\"\n",
    "#画像収集\n",
    "url4 = \"http://techblog.adish.co.jp/entry/2016/07/07/Python%E3%81%A7Bing_Search_API%E3%82%92%E4%BD%BF%E3%81%A3%E3%81%A6%E7%94%BB%E5%83%8F%E3%83%87%E3%83%BC%E3%82%BF%E3%82%92%E9%9B%86%E3%82%81%E3%82%8B%E6%96%B9%E6%B3%95\""
   ]
  },
  {
   "cell_type": "markdown",
   "metadata": {
    "ExecuteTime": {
     "start_time": "2017-09-03T05:35:23.199Z"
    },
    "collapsed": true
   },
   "source": [
    "end"
   ]
  }
 ],
 "metadata": {
  "kernelspec": {
   "display_name": "Python [conda root]",
   "language": "python",
   "name": "conda-root-py"
  },
  "language_info": {
   "codemirror_mode": {
    "name": "ipython",
    "version": 3
   },
   "file_extension": ".py",
   "mimetype": "text/x-python",
   "name": "python",
   "nbconvert_exporter": "python",
   "pygments_lexer": "ipython3",
   "version": "3.5.4"
  },
  "latex_envs": {
   "LaTeX_envs_menu_present": true,
   "bibliofile": "biblio.bib",
   "cite_by": "apalike",
   "current_citInitial": 1,
   "eqLabelWithNumbers": true,
   "eqNumInitial": 1,
   "labels_anchors": false,
   "latex_user_defs": false,
   "report_style_numbering": false,
   "user_envs_cfg": false
  }
 },
 "nbformat": 4,
 "nbformat_minor": 2
}
