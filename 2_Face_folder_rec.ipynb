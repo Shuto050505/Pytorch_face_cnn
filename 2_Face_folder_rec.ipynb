{
 "cells": [
  {
   "cell_type": "code",
   "execution_count": 3,
   "metadata": {
    "ExecuteTime": {
     "end_time": "2017-09-03T05:53:17.308413Z",
     "start_time": "2017-09-03T05:53:17.218352Z"
    }
   },
   "outputs": [],
   "source": [
    "import cv2\n",
    "import glob\n",
    "import os"
   ]
  },
  {
   "cell_type": "code",
   "execution_count": 4,
   "metadata": {
    "ExecuteTime": {
     "end_time": "2017-09-03T05:53:20.625336Z",
     "start_time": "2017-09-03T05:53:19.289419Z"
    },
    "collapsed": true
   },
   "outputs": [],
   "source": [
    "# cascade の学習結果は https://github.com/Itseez/opencv/tree/master/data/haarcascades から落とせる\n",
    "cascade_path = \"cascade/haarcascade_frontalface_alt.xml\"\n",
    "cascade = cv2.CascadeClassifier(cascade_path) # カスケード分類器を作成"
   ]
  },
  {
   "cell_type": "code",
   "execution_count": 5,
   "metadata": {
    "ExecuteTime": {
     "end_time": "2017-09-03T05:53:40.004816Z",
     "start_time": "2017-09-03T05:53:40.000813Z"
    },
    "collapsed": true
   },
   "outputs": [],
   "source": [
    "#顔の最小値\n",
    "MinSize=(80,80)\n",
    "#リサイズ\n",
    "Resize_pic = (32,32)"
   ]
  },
  {
   "cell_type": "code",
   "execution_count": 6,
   "metadata": {
    "ExecuteTime": {
     "end_time": "2017-09-03T05:53:42.309276Z",
     "start_time": "2017-09-03T05:53:42.305290Z"
    },
    "collapsed": true
   },
   "outputs": [],
   "source": [
    "SAVE_DIR1 = \"picts\"\n",
    "if not os.path.isdir(SAVE_DIR1):\n",
    "    os.mkdir(SAVE_DIR1)"
   ]
  },
  {
   "cell_type": "code",
   "execution_count": 8,
   "metadata": {
    "ExecuteTime": {
     "end_time": "2017-09-03T05:56:03.639162Z",
     "start_time": "2017-09-03T05:55:38.001769Z"
    },
    "collapsed": true
   },
   "outputs": [],
   "source": [
    "for j in range(1,6):\n",
    "    #画像フォルダ\n",
    "    LOAD_DIR = \"./o_picts/ims_\" + str(j)\n",
    "    #SAVE_DIR = LOAD_DIR  + \"_new\"\n",
    "    SAVE_DIR = SAVE_DIR1+\"/\"+str(j)\n",
    "\n",
    "    if not os.path.isdir(SAVE_DIR):\n",
    "        os.mkdir(SAVE_DIR)\n",
    "\n",
    "    #画像読み込み\n",
    "    before_images = glob.glob( \".\\\\\" +LOAD_DIR+ \"\\\\*\")\n",
    "    \n",
    "    i = 0;\n",
    "    for pic in range(len(before_images)):\n",
    "        #画像読み込み\n",
    "        img_path = before_images[pic].replace(\"\\\\\", \"/\") # 画像のパス\n",
    "        img_raw = cv2.imread(img_path) # 画像を読み込む\n",
    "    \n",
    "        #画像縮小\n",
    "        height = img_raw.shape[0]\n",
    "        width = img_raw.shape[1]\n",
    "\n",
    "        re_width = int(500/height*width)\n",
    "        re_height = 500\n",
    "\n",
    "        img = cv2.resize(img_raw,(re_width,re_height))\n",
    "        img_gray = cv2.cvtColor(img, cv2.COLOR_BGR2GRAY) # グレースケール化\n",
    "\n",
    "        #顔認識(各画像スケールにおける縮小量,)\n",
    "        facerect = cascade.detectMultiScale(img_gray, scaleFactor=1.2, minNeighbors=1, minSize=MinSize) \n",
    "\n",
    "        #顔だけ切り出して保存\n",
    "        for rect in facerect:\n",
    "            x = rect[0]\n",
    "            y = rect[1]\n",
    "            width = rect[2]\n",
    "            height = rect[3]    \n",
    "            #cut\n",
    "            face = img[y:y+height, x:x+width]\n",
    "            face = cv2.resize(face, Resize_pic)\n",
    "            cv2.imwrite( SAVE_DIR +\"/\"+str(j)+\"_\"+str(i)+\".png\", face)\n",
    "            i += 1"
   ]
  },
  {
   "cell_type": "code",
   "execution_count": null,
   "metadata": {
    "collapsed": true
   },
   "outputs": [],
   "source": []
  }
 ],
 "metadata": {
  "anaconda-cloud": {},
  "kernelspec": {
   "display_name": "Python [conda root]",
   "language": "python",
   "name": "conda-root-py"
  },
  "language_info": {
   "codemirror_mode": {
    "name": "ipython",
    "version": 3
   },
   "file_extension": ".py",
   "mimetype": "text/x-python",
   "name": "python",
   "nbconvert_exporter": "python",
   "pygments_lexer": "ipython3",
   "version": "3.5.3"
  },
  "latex_envs": {
   "LaTeX_envs_menu_present": true,
   "bibliofile": "biblio.bib",
   "cite_by": "apalike",
   "current_citInitial": 1,
   "eqLabelWithNumbers": true,
   "eqNumInitial": 0,
   "labels_anchors": false,
   "latex_user_defs": false,
   "report_style_numbering": false,
   "user_envs_cfg": false
  }
 },
 "nbformat": 4,
 "nbformat_minor": 2
}
